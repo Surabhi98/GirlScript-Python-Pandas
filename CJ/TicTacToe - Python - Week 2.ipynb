{
 "cells": [
  {
   "cell_type": "code",
   "execution_count": 1,
   "metadata": {},
   "outputs": [],
   "source": [
    "#!/usr/bin/python3\n",
    "# Simple TicTacToe game in Python - EAO\n",
    "# In this game, you will be required to fill in the missing bits and commit your code weekly\n",
    "# Please fill in the missing prompts every week as directed\n",
    "\n",
    "# WEEK 1\n",
    "import random\n",
    "import sys\n",
    "\n",
    "board = [i for i in range(0, 9)]\n",
    "player, computer = '',''\n",
    "\n",
    "# Corners, Center and Others, respectively\n",
    "moves = ((1, 7, 3, 9), (5), (2, 4, 6, 8))\n",
    "\n",
    "# Winner combinations\n",
    "winners = ((1, 2, 3), (4, 5, 6), (7, 8, 9), (1, 4, 7), (2, 5, 8), (3, 6, 9), (1, 5, 9), (3, 5, 7))\n",
    "\n",
    "# Table\n",
    "tab = range(1, 10)"
   ]
  },
  {
   "cell_type": "code",
   "execution_count": 2,
   "metadata": {},
   "outputs": [
    {
     "name": "stdout",
     "output_type": "stream",
     "text": [
      "  |   |   \n",
      "--+---+--\n",
      "  |   |   \n",
      "--+---+--\n",
      "  |   |   \n",
      "--+---+--\n"
     ]
    }
   ],
   "source": [
    "# WEEK 1\n",
    "# Snippet to print the board\n",
    "\n",
    "def print_board():\n",
    "    x = 1  # think about what value can variable x have\n",
    "    \n",
    "    for i in board:\n",
    "        end = ' | '\n",
    "        \n",
    "        if x % 3 == 0:\n",
    "            end = ' \\n'\n",
    "            \n",
    "            if i != 1:\n",
    "                end += '--+---+--\\n'\n",
    "                \n",
    "        char = ' '\n",
    "        \n",
    "        if i in ('X','O'):\n",
    "            char = i;  # Think about what values do we fill the grid with\n",
    "            \n",
    "        x += 1        # what value will x increment each time\n",
    "        \n",
    "        print(char, end = end)\n",
    "        \n",
    "print_board()"
   ]
  },
  {
   "cell_type": "code",
   "execution_count": 3,
   "metadata": {},
   "outputs": [],
   "source": [
    "#WEEK 2\n",
    "def select_char():\n",
    "    chars = ('X','O')\n",
    "    \n",
    "    if random.randint(0, 1) == 0: #what random values can we have, hint: Integer\n",
    "        return chars[::-1]\n",
    "    return chars\n",
    "\n",
    "def can_move(brd, player, move):\n",
    "    if move in tab and brd[move - 1] == move - 1:\n",
    "        return True        #Hint: BOOLEAN value\n",
    "    return False           #Hint: BOOLEAN value\n",
    "\n",
    "def can_win(brd, player, move):\n",
    "    places = []\n",
    "    \n",
    "    x = 0\n",
    "    \n",
    "    for i in brd:\n",
    "        if i == player: places.append(x);\n",
    "        x += 1  \n",
    "    win = True    #Hint: BOOLEAN Value\n",
    "    \n",
    "    for tup in winners:\n",
    "        win = True #Hint: BOOLEAN Value\n",
    "        \n",
    "        for ix in tup:\n",
    "            if brd[ix] != player:\n",
    "                win = False    #Hint: BOOLEAN Value\n",
    "                break \n",
    "                \n",
    "        if win == True:     #Hint: BOOLEAN Value\n",
    "            break\n",
    "            \n",
    "    return win"
   ]
  },
  {
   "cell_type": "code",
   "execution_count": null,
   "metadata": {},
   "outputs": [],
   "source": []
  }
 ],
 "metadata": {
  "kernelspec": {
   "display_name": "Python 3",
   "language": "python",
   "name": "python3"
  },
  "language_info": {
   "codemirror_mode": {
    "name": "ipython",
    "version": 3
   },
   "file_extension": ".py",
   "mimetype": "text/x-python",
   "name": "python",
   "nbconvert_exporter": "python",
   "pygments_lexer": "ipython3",
   "version": "3.8.3"
  }
 },
 "nbformat": 4,
 "nbformat_minor": 4
}
