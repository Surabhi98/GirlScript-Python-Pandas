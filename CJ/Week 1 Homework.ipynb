{
 "cells": [
  {
   "cell_type": "markdown",
   "metadata": {},
   "source": [
    "# Week 1: Homework"
   ]
  },
  {
   "cell_type": "markdown",
   "metadata": {},
   "source": [
    "- Write a Python script to check if a number is even or odd."
   ]
  },
  {
   "cell_type": "code",
   "execution_count": 27,
   "metadata": {},
   "outputs": [
    {
     "name": "stdout",
     "output_type": "stream",
     "text": [
      "Enter a number: 7\n",
      "7 is odd\n"
     ]
    }
   ],
   "source": [
    "num = int(input('Enter a number: '))\n",
    "\n",
    "if num == 0:\n",
    "    print(str(num) + ' is zero')\n",
    "    \n",
    "elif num % 2 == 0:\n",
    "    print(str(num) + ' is even')\n",
    "    \n",
    "else:\n",
    "    print(str(num) + ' is odd')"
   ]
  },
  {
   "cell_type": "markdown",
   "metadata": {},
   "source": [
    "- Write a Python script to check if a number is prime."
   ]
  },
  {
   "cell_type": "code",
   "execution_count": 29,
   "metadata": {},
   "outputs": [
    {
     "name": "stdout",
     "output_type": "stream",
     "text": [
      "Enter a number: 9823\n",
      "9823  is not prime\n",
      "11 times 893.0 is 9823\n"
     ]
    }
   ],
   "source": [
    "num = int(input('Enter a number: '))\n",
    "\n",
    "if num == 0:\n",
    "    print(num, ' is zero')\n",
    "    \n",
    "if num == 1:\n",
    "    print(num, ' is not prime')\n",
    "    \n",
    "for i in range(2, num):   \n",
    "    if num % i == 0: \n",
    "        print(num, ' is not prime')\n",
    "        print(i, 'times', num/i, 'is', num)\n",
    "        break\n",
    "else:\n",
    "    print(num, 'is prime.')"
   ]
  }
 ],
 "metadata": {
  "kernelspec": {
   "display_name": "Python 3",
   "language": "python",
   "name": "python3"
  },
  "language_info": {
   "codemirror_mode": {
    "name": "ipython",
    "version": 3
   },
   "file_extension": ".py",
   "mimetype": "text/x-python",
   "name": "python",
   "nbconvert_exporter": "python",
   "pygments_lexer": "ipython3",
   "version": "3.7.6"
  }
 },
 "nbformat": 4,
 "nbformat_minor": 4
}
