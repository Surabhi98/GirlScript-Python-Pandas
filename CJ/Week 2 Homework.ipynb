{
 "cells": [
  {
   "cell_type": "markdown",
   "metadata": {},
   "source": [
    "# Week 2: Homework"
   ]
  },
  {
   "cell_type": "markdown",
   "metadata": {},
   "source": [
    "- Write a script to find the factorial of a number"
   ]
  },
  {
   "cell_type": "code",
   "execution_count": 1,
   "metadata": {},
   "outputs": [
    {
     "name": "stdout",
     "output_type": "stream",
     "text": [
      "Find the factorial of: 7\n",
      "7! = 5040\n"
     ]
    }
   ],
   "source": [
    "# Using a for loop\n",
    "\n",
    "num = int(input('Find the factorial of: '))\n",
    "\n",
    "product = 1\n",
    "\n",
    "for i in range(1, num + 1):\n",
    "    product = product * i\n",
    "    \n",
    "print(str(num) + '! = ' + str(product))"
   ]
  },
  {
   "cell_type": "code",
   "execution_count": 2,
   "metadata": {},
   "outputs": [
    {
     "name": "stdout",
     "output_type": "stream",
     "text": [
      "Find the factorial of: 7\n",
      "7! = 5040\n"
     ]
    }
   ],
   "source": [
    "# Using a while loop\n",
    "\n",
    "num = int(input('Find the factorial of: '))\n",
    "\n",
    "product = 1\n",
    "\n",
    "i = 1\n",
    "\n",
    "while i <= num:\n",
    "    product = product * i\n",
    "    i = i + 1\n",
    "    \n",
    "print(str(num) + '! = ' + str(product))"
   ]
  },
  {
   "cell_type": "code",
   "execution_count": null,
   "metadata": {},
   "outputs": [],
   "source": []
  }
 ],
 "metadata": {
  "kernelspec": {
   "display_name": "Python 3",
   "language": "python",
   "name": "python3"
  },
  "language_info": {
   "codemirror_mode": {
    "name": "ipython",
    "version": 3
   },
   "file_extension": ".py",
   "mimetype": "text/x-python",
   "name": "python",
   "nbconvert_exporter": "python",
   "pygments_lexer": "ipython3",
   "version": "3.8.3"
  }
 },
 "nbformat": 4,
 "nbformat_minor": 4
}
