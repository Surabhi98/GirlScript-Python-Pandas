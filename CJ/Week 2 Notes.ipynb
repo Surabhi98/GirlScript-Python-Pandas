{
 "cells": [
  {
   "cell_type": "markdown",
   "metadata": {},
   "source": [
    "# Week 2:\n",
    "- For loops, while loops\n",
    "- Arrays\n",
    "- Lists\n",
    "- Switch cases + mini problems"
   ]
  },
  {
   "cell_type": "code",
   "execution_count": 4,
   "metadata": {},
   "outputs": [
    {
     "name": "stdout",
     "output_type": "stream",
     "text": [
      "Enter a number: 7\n",
      "7 is a prime number\n"
     ]
    }
   ],
   "source": [
    "# Last week's homework problem\n",
    "\n",
    "# Program to check if a number is prime\n",
    "\n",
    "# To take input from the user\n",
    "\n",
    "num = int(input(\"Enter a number: \"))\n",
    "\n",
    "# prime numbers are greater than 1\n",
    "\n",
    "if num > 1:\n",
    "    \n",
    "   # check for factors\n",
    "   for i in range(2,num):\n",
    "        if (num % i) == 0:\n",
    "           print(num, \"is not a prime number\")\n",
    "           print(i, \"times\", num/i, \"is\", num)\n",
    "           break\n",
    "   else:\n",
    "       print(num, \"is a prime number\")\n",
    "       \n",
    "# if input number is less than or equal to 1, it is not prime\n",
    "\n",
    "else:\n",
    "   print(num,\"is not a prime number\")"
   ]
  },
  {
   "cell_type": "markdown",
   "metadata": {},
   "source": [
    "## For Loops"
   ]
  },
  {
   "cell_type": "code",
   "execution_count": 5,
   "metadata": {},
   "outputs": [
    {
     "name": "stdout",
     "output_type": "stream",
     "text": [
      "The sum is 48\n"
     ]
    }
   ],
   "source": [
    "# Program to find the sum of all numbers stored in a list\n",
    "\n",
    "# List of numbers\n",
    "\n",
    "numbers = [6, 5, 3, 8, 4, 2, 5, 4, 11]\n",
    "\n",
    "# variable to store the sum\n",
    "\n",
    "sum = 0\n",
    "\n",
    "# iterate over the list\n",
    "\n",
    "for val in numbers:\n",
    "\tsum = sum + val\n",
    "\n",
    "print(\"The sum is\", sum)"
   ]
  },
  {
   "cell_type": "markdown",
   "metadata": {},
   "source": [
    "## While Loops"
   ]
  },
  {
   "cell_type": "code",
   "execution_count": 8,
   "metadata": {},
   "outputs": [
    {
     "name": "stdout",
     "output_type": "stream",
     "text": [
      "Enter n: 3\n",
      "The sum is 6\n"
     ]
    }
   ],
   "source": [
    "# Program to add the first n natural numbers \n",
    "\n",
    "# sum = 1 + 2 + 3 + ... + n\n",
    "\n",
    "# To take input from the user\n",
    "\n",
    "n = int(input(\"Enter n: \"))\n",
    "\n",
    "# initialize sum and counter\n",
    "\n",
    "sum = 0\n",
    "i = 0\n",
    "\n",
    "while i <= n:\n",
    "    sum = sum + i\n",
    "    i = i + 1    # update counter\n",
    "\n",
    "# print the sum\n",
    "print(\"The sum is\", sum)"
   ]
  },
  {
   "cell_type": "code",
   "execution_count": 10,
   "metadata": {},
   "outputs": [
    {
     "name": "stdout",
     "output_type": "stream",
     "text": [
      "Display multiplication table of: 6\n",
      "6 x 1 = 6\n",
      "6 x 2 = 12\n",
      "6 x 3 = 18\n",
      "6 x 4 = 24\n",
      "6 x 5 = 30\n",
      "6 x 6 = 36\n",
      "6 x 7 = 42\n",
      "6 x 8 = 48\n",
      "6 x 9 = 54\n",
      "6 x 10 = 60\n",
      "6 x 11 = 66\n",
      "6 x 12 = 72\n"
     ]
    }
   ],
   "source": [
    "# Multiplication table \n",
    "\n",
    "# To take input from the user\n",
    "\n",
    "num = int(input(\"Display multiplication table of: \"))\n",
    "\n",
    "# Iterate 12 times from i = 1 to 12\n",
    "\n",
    "for i in range(1, 13):              # starts at 1 and stops at 12\n",
    "   print(num, 'x', i, '=', num*i)"
   ]
  },
  {
   "cell_type": "markdown",
   "metadata": {},
   "source": [
    "## Switch Cases"
   ]
  },
  {
   "cell_type": "code",
   "execution_count": 2,
   "metadata": {},
   "outputs": [
    {
     "name": "stdout",
     "output_type": "stream",
     "text": [
      "You can perform operation\n",
      "1. Addition\n",
      "2. Subtraction\n",
      "3. Multiplication\n",
      "4. Division\n",
      "5. Module \n",
      "Select an operation from 1, 2, 3, 4, 5: 1\n",
      "Enter your first number: 2\n",
      "Enter your second number: 3\n",
      "\n",
      "Answer: 5\n"
     ]
    }
   ],
   "source": [
    "# Program to make a calculator\n",
    "\n",
    "def addition(num1, num2):\n",
    "  num1 += num2    # same as num = num1 + num2\n",
    "  return num1     #         return num\n",
    "\n",
    "def subtraction(num1, num2):\n",
    "  num1 -= num2\n",
    "  return num1\n",
    "\n",
    "def multiplication(num1, num2):\n",
    "  num1 *= num2\n",
    "  return num1\n",
    "\n",
    "def division(num1, num2):\n",
    "  num1 /= num2\n",
    "  return num1\n",
    "\n",
    "def modulo(num1, num2):\n",
    "  num1 %= num2\n",
    "  return num1\n",
    "\n",
    "def default(num1, num2):\n",
    "  return \"Invalid operation, please try again\"\n",
    "\n",
    "\n",
    "switcher = {\n",
    "    1: addition,\n",
    "    2: subtraction,\n",
    "    3: multiplication,\n",
    "    4: division,\n",
    "    5: modulo\n",
    "}\n",
    "\n",
    "\n",
    "def switch(operation, num1, num2):\n",
    "  return switcher.get(operation, default)(num1, num2)\n",
    "\n",
    "\n",
    "print('''You can perform operation\n",
    "1. Addition\n",
    "2. Subtraction\n",
    "3. Multiplication\n",
    "4. Division\n",
    "5. Module ''')\n",
    "\n",
    "# Take input from user\n",
    "\n",
    "choice = int(input(\"Select an operation from 1, 2, 3, 4, 5: \"))\n",
    "num1 = int(input(\"Enter your first number: \"))\n",
    "num2 = int(input(\"Enter your second number: \"))\n",
    "\n",
    "print('\\nAnswer: ' + str(switch(choice, num1, num2)))\n"
   ]
  },
  {
   "cell_type": "code",
   "execution_count": null,
   "metadata": {},
   "outputs": [],
   "source": []
  }
 ],
 "metadata": {
  "kernelspec": {
   "display_name": "Python 3",
   "language": "python",
   "name": "python3"
  },
  "language_info": {
   "codemirror_mode": {
    "name": "ipython",
    "version": 3
   },
   "file_extension": ".py",
   "mimetype": "text/x-python",
   "name": "python",
   "nbconvert_exporter": "python",
   "pygments_lexer": "ipython3",
   "version": "3.8.3"
  }
 },
 "nbformat": 4,
 "nbformat_minor": 4
}
