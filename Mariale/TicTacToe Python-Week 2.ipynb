{
 "cells": [
  {
   "cell_type": "code",
   "execution_count": null,
   "metadata": {},
   "outputs": [],
   "source": [
    "#!/usr/bin/python3\n",
    "# Simple TicTacToe game in Python - EAO\n",
    "#In this game, you will be required to fill in the missing bits and commit you code weekly\n",
    "# Please fill in the missing prompts every week as directed\n",
    "\n",
    "#WEEK 1\n",
    "import random\n",
    "import sys\n",
    "\n",
    "board=[i for i in range(0,9)]\n",
    "player, computer = '',''\n",
    "\n",
    "# Corners, Center and Others, respectively\n",
    "moves=((1,7,3,9),(5,),(2,4,6,8))\n",
    "# Winner combinations - think about what combinations will make you WIN the game!!\n",
    "winners=((0,1,2),(3,4,5),(6,7,8),(0,3,6),(1,4,7),(2,5,8),(0,4,8),(2,4,6))\n",
    "\n",
    "# Table\n",
    "tab=range(1,10)\n",
    "\n"
   ]
  },
  {
   "cell_type": "code",
   "execution_count": null,
   "metadata": {},
   "outputs": [],
   "source": [
    "#WEEK 1\n",
    "#snippet to print the board\n",
    "def print_board():\n",
    "    x=1  #think about what value can variable x have, Hint: Integer\n",
    "    for i in board:\n",
    "        end = ' | '\n",
    "        if x%3 == 0:\n",
    "            end = ' \\n'\n",
    "            if i != 1: end+='---------\\n';\n",
    "        char=' '\n",
    "        if i in ('X','O'): char=i;  #Think about what values do we will the grid with\n",
    "        x+=1          #x = x+1             #what value will x increment each time\n",
    "        print(char,end=end)\n",
    "print_board()"
   ]
  },
  {
   "cell_type": "code",
   "execution_count": null,
   "metadata": {},
   "outputs": [],
   "source": [
    "#WEEK 2\n",
    "def select_char():\n",
    "    chars=(\"X\",\"0\")\n",
    "    if random.randint(0,1) == 0: #what random values can we have, hint: Integer\n",
    "        return chars[::-1]\n",
    "    return chars\n",
    "\n",
    "def can_move(brd, player, move):\n",
    "    if move in tab and brd[move-1] == move - 1:\n",
    "        return True        #Hint: BOOLEAN value\n",
    "    return False            #Hint: BOOLEAN value\n",
    "\n",
    "def can_win(brd, player, move):\n",
    "    places=[]\n",
    "    x=0\n",
    "    for i in brd:\n",
    "        if i == player: places.append(x);\n",
    "        x+=1\n",
    "    win=??    #Hint: BOOLEAN Value\n",
    "    for tup in winners:\n",
    "        win=?? #Hint: BOOLEAN Value\n",
    "        for ix in tup:\n",
    "            if brd[ix] != player:\n",
    "                win=??    #Hint: BOOLEAN Value\n",
    "                break \n",
    "        if win == ??:     #Hint: BOOLEAN Value\n",
    "            break\n",
    "    return win\n",
    "\n",
    "\n"
   ]
  }
 ],
 "metadata": {
  "kernelspec": {
   "display_name": "Python 3",
   "language": "python",
   "name": "python3"
  },
  "language_info": {
   "codemirror_mode": {
    "name": "ipython",
    "version": 3
   },
   "file_extension": ".py",
   "mimetype": "text/x-python",
   "name": "python",
   "nbconvert_exporter": "python",
   "pygments_lexer": "ipython3",
   "version": "3.7.6"
  }
 },
 "nbformat": 4,
 "nbformat_minor": 2
}
