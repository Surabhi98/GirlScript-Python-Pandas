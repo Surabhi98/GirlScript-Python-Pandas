{
 "cells": [
  {
   "cell_type": "code",
   "execution_count": 1,
   "metadata": {},
   "outputs": [],
   "source": [
    "#!/usr/bin/python3\n",
    "# Simple TicTacToe game in Python - EAO\n",
    "#In this game, you will be required to fill in the missing bits and commit you code weekly\n",
    "# Please fill in the missing prompts every week as directed\n",
    "\n",
    "#WEEK 1\n",
    "import random\n",
    "import sys\n",
    "\n",
    "board=[i for i in range(0,9)]\n",
    "player, computer = '',''\n",
    "\n",
    "# Corners, Center and Others, respectively\n",
    "moves=((1,7,3,9),(5,),(2,4,6,8))\n",
    "# Winner combinations - think about what combinations will make you WIN the game!!\n",
    "winners=((1,2,3),(4,5,6),(7,8,9), (1,4,7), (2,5,8), (3,6,9), (1,5,9), (3,5,7)) \n",
    "# Table\n",
    "tab=range(1,10)"
   ]
  },
  {
   "cell_type": "code",
   "execution_count": 2,
   "metadata": {},
   "outputs": [
    {
     "name": "stdout",
     "output_type": "stream",
     "text": [
      "  |   |   \n",
      "---------\n",
      "  |   |   \n",
      "---------\n",
      "  |   |   \n",
      "---------\n"
     ]
    }
   ],
   "source": [
    "#WEEK 1\n",
    "#snippet to print the board\n",
    "def print_board():\n",
    "    x=1#think about what value can variable x have, Hint: Integer\n",
    "    for i in board:\n",
    "        end = ' | '\n",
    "        if x%3 == 0:\n",
    "            end = ' \\n'\n",
    "            if i != 1: end+='---------\\n';\n",
    "        char=' '\n",
    "        if i in ('O','X'): char=i;  #Think about what values do we will the grid with\n",
    "        x+=1                       #what value will x increment each time\n",
    "        if i <9:\n",
    "            print(char,end=end)\n",
    "print_board()"
   ]
  },
  {
   "cell_type": "code",
   "execution_count": null,
   "metadata": {},
   "outputs": [],
   "source": []
  }
 ],
 "metadata": {
  "kernelspec": {
   "display_name": "Python 3",
   "language": "python",
   "name": "python3"
  },
  "language_info": {
   "codemirror_mode": {
    "name": "ipython",
    "version": 3
   },
   "file_extension": ".py",
   "mimetype": "text/x-python",
   "name": "python",
   "nbconvert_exporter": "python",
   "pygments_lexer": "ipython3",
   "version": "3.7.6"
  }
 },
 "nbformat": 4,
 "nbformat_minor": 4
}
