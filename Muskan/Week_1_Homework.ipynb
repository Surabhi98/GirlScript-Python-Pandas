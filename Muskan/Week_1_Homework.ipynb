{
 "cells": [
  {
   "cell_type": "markdown",
   "metadata": {},
   "source": [
    "# Write a python script to check if a number is even or odd"
   ]
  },
  {
   "cell_type": "code",
   "execution_count": 1,
   "metadata": {},
   "outputs": [
    {
     "name": "stdout",
     "output_type": "stream",
     "text": [
      "Enter any number: 7\n",
      "7 is odd \n"
     ]
    }
   ],
   "source": [
    "x = int(input(\"Enter any number: \"))\n",
    "if x%2==0:\n",
    "    print(\"{} is even \".format(x))\n",
    "else:\n",
    "    print(\"{} is odd \".format(x))\n",
    "    "
   ]
  },
  {
   "cell_type": "markdown",
   "metadata": {},
   "source": [
    "# Write a python script to check if a number is prime or not "
   ]
  },
  {
   "cell_type": "code",
   "execution_count": 2,
   "metadata": {},
   "outputs": [
    {
     "name": "stdout",
     "output_type": "stream",
     "text": [
      "Enter any number: 7\n",
      "7 is a prime number\n"
     ]
    }
   ],
   "source": [
    "x = int(input(\"Enter any number: \"))\n",
    "i =1\n",
    "div=0\n",
    "while i<=x/2:\n",
    "    if x%i==0:\n",
    "        div+=1\n",
    "    i+=1    \n",
    "if div>2:\n",
    "    print(\"{} is not a prime number\".format(x))\n",
    "else:\n",
    "    print(\"{} is a prime number\".format(x))"
   ]
  }
 ],
 "metadata": {
  "kernelspec": {
   "display_name": "Python 3",
   "language": "python",
   "name": "python3"
  },
  "language_info": {
   "codemirror_mode": {
    "name": "ipython",
    "version": 3
   },
   "file_extension": ".py",
   "mimetype": "text/x-python",
   "name": "python",
   "nbconvert_exporter": "python",
   "pygments_lexer": "ipython3",
   "version": "3.7.6"
  }
 },
 "nbformat": 4,
 "nbformat_minor": 4
}
