{
 "cells": [
  {
   "cell_type": "markdown",
   "metadata": {},
   "source": [
    "#  Week 1: Notes"
   ]
  },
  {
   "cell_type": "code",
   "execution_count": 1,
   "metadata": {},
   "outputs": [
    {
     "name": "stdout",
     "output_type": "stream",
     "text": [
      "Hello World!\n"
     ]
    }
   ],
   "source": [
    "print(\"Hello World!\")"
   ]
  },
  {
   "cell_type": "code",
   "execution_count": 2,
   "metadata": {},
   "outputs": [
    {
     "name": "stdout",
     "output_type": "stream",
     "text": [
      "Muskan 100\n"
     ]
    }
   ],
   "source": [
    "name = \"Muskan\"\n",
    "marks = 100\n",
    "print(name,marks)"
   ]
  },
  {
   "cell_type": "code",
   "execution_count": 1,
   "metadata": {},
   "outputs": [
    {
     "name": "stdout",
     "output_type": "stream",
     "text": [
      "Hello World\n",
      "20\n",
      "20.5\n",
      "['apple', 'banana', 'cherry']\n",
      "('apple', 'banana', 'cherry')\n",
      "range(0, 6)\n",
      "{'name': 'John', 'age': 36}\n",
      "{'cherry', 'banana', 'apple'}\n"
     ]
    }
   ],
   "source": [
    "x = \"Hello World\"      \n",
    "print(x)\n",
    "x = 100                     \n",
    "print(x)\n",
    "#list\n",
    "x = [\"apple\", \"banana\", \"cherry\"]  \n",
    "print(x)\n",
    "#tuple\n",
    "x = (\"apple\", \"banana\", \"cherry\")\n",
    "print(x)\n",
    "x = range(6)                     \n",
    "print(x)\n",
    "x = {\"name\" : \"John\", \"age\" : 36}    \n",
    "print(x)\n",
    "x = {\"apple\", \"banana\", \"cherry\"}    \n",
    "print(x)"
   ]
  },
  {
   "cell_type": "code",
   "execution_count": 3,
   "metadata": {},
   "outputs": [
    {
     "name": "stdout",
     "output_type": "stream",
     "text": [
      "100\n"
     ]
    }
   ],
   "source": [
    "x = 100.9\n",
    "y = int(x)\n",
    "print(y)"
   ]
  },
  {
   "cell_type": "code",
   "execution_count": 2,
   "metadata": {},
   "outputs": [
    {
     "name": "stdout",
     "output_type": "stream",
     "text": [
      " Value of c is  107\n",
      " Value of c is  93\n",
      " Value of c is  700\n",
      " Value of c is  14.285714285714286\n",
      " Value of c is  2\n",
      "Value of c is  14\n"
     ]
    }
   ],
   "source": [
    "a = 100\n",
    "b = 7\n",
    "c = 0\n",
    "\n",
    "c = a + b\n",
    "print (\" Value of c is \", c)\n",
    "\n",
    "c = a - b\n",
    "print (\" Value of c is \", c )\n",
    "\n",
    "c = a * b\n",
    "print (\" Value of c is \", c)\n",
    "\n",
    "c = a / b\n",
    "print (\" Value of c is \", c )\n",
    "\n",
    "c = a % b\n",
    "print (\" Value of c is \", c)\n",
    "\n",
    "c = a//b \n",
    "print (\"Value of c is \", c)\n"
   ]
  },
  {
   "cell_type": "code",
   "execution_count": 4,
   "metadata": {},
   "outputs": [
    {
     "name": "stdout",
     "output_type": "stream",
     "text": [
      "8\n"
     ]
    }
   ],
   "source": [
    "print(2**3)"
   ]
  },
  {
   "cell_type": "code",
   "execution_count": 5,
   "metadata": {},
   "outputs": [
    {
     "name": "stdout",
     "output_type": "stream",
     "text": [
      "Enter a number 7\n",
      "Positive\n"
     ]
    }
   ],
   "source": [
    "x = int( input(\"Enter a number \"))\n",
    "if(x > 0):\n",
    "    print(\"Positive\")\n",
    "else :\n",
    "    print(\"Less than or equal to 0\")"
   ]
  },
  {
   "cell_type": "code",
   "execution_count": 6,
   "metadata": {},
   "outputs": [
    {
     "name": "stdout",
     "output_type": "stream",
     "text": [
      "Enter a number:1\n",
      "Positive\n"
     ]
    }
   ],
   "source": [
    "num = float(input('Enter a number:'))\n",
    "\n",
    "if num > 0:\n",
    "    print('Positive')\n",
    "elif num == 0:\n",
    "    print('Zero')\n",
    "else:\n",
    "    print('Negative')"
   ]
  },
  {
   "cell_type": "code",
   "execution_count": 3,
   "metadata": {},
   "outputs": [
    {
     "name": "stdout",
     "output_type": "stream",
     "text": [
      "True\n",
      "False\n",
      "False\n"
     ]
    }
   ],
   "source": [
    "print(10 > 9)\n",
    "print(10 == 9)\n",
    "print(10 < 9)"
   ]
  },
  {
   "cell_type": "code",
   "execution_count": 7,
   "metadata": {},
   "outputs": [
    {
     "name": "stdout",
     "output_type": "stream",
     "text": [
      "Enter the year1000\n",
      "1000 is a leap year\n"
     ]
    }
   ],
   "source": [
    "year = int(input(\"Enter the year\"))\n",
    "if year%4==0 :\n",
    "    if year%100==0:\n",
    "        if year%400==0:\n",
    "            print(\"{} is a leap year\".format(year))\n",
    "        else:\n",
    "            print(\"{} is a leap year\".format(year))\n",
    "            "
   ]
  },
  {
   "cell_type": "code",
   "execution_count": 5,
   "metadata": {},
   "outputs": [
    {
     "name": "stdout",
     "output_type": "stream",
     "text": [
      "My name is Muskan and id is 1 \n"
     ]
    }
   ],
   "source": [
    "def fun(name,id):\n",
    "    print(\"My name is {0} and id is {1} \".format(name,id))\n",
    "    \n",
    "    \n",
    "fun(\"Muskan\",\"1\")    "
   ]
  },
  {
   "cell_type": "code",
   "execution_count": 9,
   "metadata": {},
   "outputs": [
    {
     "name": "stdout",
     "output_type": "stream",
     "text": [
      "4\n"
     ]
    }
   ],
   "source": [
    "import random\n",
    "random_number=random.randint(0,9)\n",
    "print(random_number)"
   ]
  }
 ],
 "metadata": {
  "kernelspec": {
   "display_name": "Python 3",
   "language": "python",
   "name": "python3"
  },
  "language_info": {
   "codemirror_mode": {
    "name": "ipython",
    "version": 3
   },
   "file_extension": ".py",
   "mimetype": "text/x-python",
   "name": "python",
   "nbconvert_exporter": "python",
   "pygments_lexer": "ipython3",
   "version": "3.7.6"
  }
 },
 "nbformat": 4,
 "nbformat_minor": 4
}
